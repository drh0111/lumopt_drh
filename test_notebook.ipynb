{
 "cells": [
  {
   "cell_type": "markdown",
   "id": "57a0423c",
   "metadata": {},
   "source": [
    "This part is used to test the get_field functiona and verify the interpolation strategy of Lumerical FDTD, be aware to check the interpolation of FDTD is set to None at the beginning"
   ]
  },
  {
   "cell_type": "code",
   "execution_count": 1,
   "id": "3965407b",
   "metadata": {},
   "outputs": [],
   "source": [
    "import lumapi\n",
    "from Lumerical_methods.lumerical_scripts import get_field"
   ]
  },
  {
   "cell_type": "code",
   "execution_count": 2,
   "id": "8bbf681b",
   "metadata": {},
   "outputs": [],
   "source": [
    "path = 'D:\\\\program\\\\adjoint_method\\\\lumopt_standard\\\\lumopt\\\\examples\\\\Ysplitter\\\\opts_7\\\\forward_0'\n",
    "fdtd = lumapi.FDTD()\n",
    "fdtd.load(path)"
   ]
  },
  {
   "cell_type": "code",
   "execution_count": 3,
   "id": "380d4456",
   "metadata": {},
   "outputs": [],
   "source": [
    "forward_fields = get_field(fdtd,\n",
    "                            monitor_name = 'opt_fields',\n",
    "                            field_result_name = 'forward_fields',\n",
    "                            get_eps = True,\n",
    "                            get_D = False,\n",
    "                            get_H = False,\n",
    "                            noninterpolation = True,\n",
    "                            unfold_symmetry = True)\n",
    "fdtd.close()\n"
   ]
  },
  {
   "cell_type": "markdown",
   "id": "233f7331",
   "metadata": {},
   "source": [
    "Draw the image to show that we have successfully grad the data"
   ]
  },
  {
   "cell_type": "code",
   "execution_count": 7,
   "id": "101d2689",
   "metadata": {},
   "outputs": [
    {
     "data": {
      "image/png": "[encoded data removed]",
      "text/plain": [
       "<Figure size 432x288 with 2 Axes>"
      ]
     },
     "metadata": {
      "needs_background": "light"
     },
     "output_type": "display_data"
    }
   ],
   "source": [
    "import matplotlib.pyplot as plt\n",
    "import numpy as np\n",
    "E = forward_fields.E\n",
    "\n",
    "index = 0\n",
    "E_x= np.abs(E[:, :, 0, index, 0])\n",
    "E_y = np.abs(E[:, :, 0, index, 1])\n",
    "E_z = np.abs(E[:, :, 0, index, 2])\n",
    "norm_E = np.sqrt(E_x * E_x + E_y * E_y + E_z * E_z)\n",
    "plt.imshow(norm_E.transpose(), cmap = 'jet')\n",
    "plt.xlabel('x axis grid')\n",
    "plt.ylabel('y axis grid')\n",
    "plt.title('|E| field')\n",
    "plt.colorbar()\n",
    "plt.savefig('norm_E.png')"
   ]
  },
  {
   "cell_type": "code",
   "execution_count": 7,
   "id": "533ae2e7",
   "metadata": {},
   "outputs": [
    {
     "data": {
      "text/plain": [
       "<Figure size 432x288 with 0 Axes>"
      ]
     },
     "metadata": {},
     "output_type": "display_data"
    }
   ],
   "source": []
  },
  {
   "cell_type": "markdown",
   "id": "7eb0e68c",
   "metadata": {},
   "source": [
    "Test the interpolation of the FDTD lumerical, we will use two nearest point of E_x to test"
   ]
  },
  {
   "cell_type": "code",
   "execution_count": null,
   "id": "0a58d0fc",
   "metadata": {},
   "outputs": [],
   "source": [
    "index_wl = 0\n",
    "index_y = 1\n",
    "index_x_1 = 1\n",
    "index_x_2 = 2\n",
    "Ex_1 = E[index_x_1, index_y, 1, index_wl, 0]\n",
    "Ex_2 = E[index_x_2, index_y, 1, index_wl, 0]"
   ]
  },
  {
   "cell_type": "code",
   "execution_count": null,
   "id": "02c2ddb2",
   "metadata": {},
   "outputs": [],
   "source": []
  }
 ],
 "metadata": {
  "kernelspec": {
   "display_name": "Python 3 (ipykernel)",
   "language": "python",
   "name": "python3"
  },
  "language_info": {
   "codemirror_mode": {
    "name": "ipython",
    "version": 3
   },
   "file_extension": ".py",
   "mimetype": "text/x-python",
   "name": "python",
   "nbconvert_exporter": "python",
   "pygments_lexer": "ipython3",
   "version": "3.9.7"
  }
 },
 "nbformat": 4,
 "nbformat_minor": 5
}
